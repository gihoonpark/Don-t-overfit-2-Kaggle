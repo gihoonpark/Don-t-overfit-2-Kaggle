{
  "nbformat": 4,
  "nbformat_minor": 0,
  "metadata": {
    "colab": {
      "name": "Don't overfit!! 2",
      "private_outputs": true,
      "provenance": [],
      "collapsed_sections": [],
      "mount_file_id": "1gOHa0CRdlHShIZHadVeU8QNX1knDfFRN",
      "authorship_tag": "ABX9TyMrVOLfGx+PF5ZEV6GqsCr2",
      "include_colab_link": true
    },
    "kernelspec": {
      "name": "python3",
      "display_name": "Python 3"
    }
  },
  "cells": [
    {
      "cell_type": "markdown",
      "metadata": {
        "id": "view-in-github",
        "colab_type": "text"
      },
      "source": [
        "<a href=\"https://colab.research.google.com/github/gihoonpark/Don-t-overfit-2-Kaggle/blob/main/Don't_overfit!!_2.ipynb\" target=\"_parent\"><img src=\"https://colab.research.google.com/assets/colab-badge.svg\" alt=\"Open In Colab\"/></a>"
      ]
    },
    {
      "cell_type": "markdown",
      "metadata": {
        "id": "83uYrdr31ezb"
      },
      "source": [
        "Load data & Simple EDA"
      ]
    },
    {
      "cell_type": "code",
      "metadata": {
        "id": "9p59WPJjl-5E"
      },
      "source": [
        "import pandas as pd\n",
        "import numpy as np\n",
        "df = pd.read_csv('/content/drive/My Drive/dataset/Dont_overfit!_2/train.csv')\n",
        "df"
      ],
      "execution_count": null,
      "outputs": []
    },
    {
      "cell_type": "code",
      "metadata": {
        "id": "DB-Zzpe7m9-I"
      },
      "source": [
        "X = df.loc[:,\"0\":]\n",
        "y = df.loc[:,\"target\"]"
      ],
      "execution_count": null,
      "outputs": []
    },
    {
      "cell_type": "code",
      "metadata": {
        "id": "EA4T4iW41OEE"
      },
      "source": [
        "import matplotlib.pyplot as plt\r\n",
        "\r\n",
        "plt.hist(df[df.columns[2:]].std())"
      ],
      "execution_count": null,
      "outputs": []
    },
    {
      "cell_type": "code",
      "metadata": {
        "id": "7WXRM_hT1OfB"
      },
      "source": [
        "plt.hist(df[df.columns[2:]].mean())"
      ],
      "execution_count": null,
      "outputs": []
    },
    {
      "cell_type": "code",
      "metadata": {
        "id": "eq9oQ-Qf1Oh1"
      },
      "source": [
        "import seaborn as sns\r\n",
        "\r\n",
        "sns.heatmap(df.corr())"
      ],
      "execution_count": null,
      "outputs": []
    },
    {
      "cell_type": "code",
      "metadata": {
        "id": "U5zUPeTO1R4D"
      },
      "source": [
        "X.std(axis=1)"
      ],
      "execution_count": null,
      "outputs": []
    },
    {
      "cell_type": "markdown",
      "metadata": {
        "id": "j_p4f_yY1A0B"
      },
      "source": [
        "PCA"
      ]
    },
    {
      "cell_type": "code",
      "metadata": {
        "id": "Lw-CshTkmykD"
      },
      "source": [
        "from sklearn.decomposition import PCA\n",
        "pca = PCA(n_components = 0.90)\n",
        "X_pca = pca.fit_transform(X)\n",
        "X_pca.shape"
      ],
      "execution_count": null,
      "outputs": []
    },
    {
      "cell_type": "markdown",
      "metadata": {
        "id": "6LOHQsZ31CZV"
      },
      "source": [
        "XGB classification"
      ]
    },
    {
      "cell_type": "code",
      "metadata": {
        "id": "0wR3GRrMnRND"
      },
      "source": [
        "from xgboost import XGBClassifier\n",
        "from sklearn.model_selection import StratifiedKFold, cross_validate\n",
        "kfold = StratifiedKFold(n_splits = 11, random_state=18)\n",
        "xgb = XGBClassifier(objective='binary:logistic')\n",
        "score = cross_validate(xgb, X_pca,y, scoring='accuracy', cv=kfold)\n",
        "sum(score['test_score'])/len(score['test_score'])"
      ],
      "execution_count": null,
      "outputs": []
    },
    {
      "cell_type": "code",
      "metadata": {
        "id": "Vehak3p5CPTS"
      },
      "source": [
        "print('cv_mean_score:',sum(score['test_score'])/len(score['test_score']))\n",
        "print('cv_std', score['test_score'].std())"
      ],
      "execution_count": null,
      "outputs": []
    },
    {
      "cell_type": "code",
      "metadata": {
        "id": "lLEOSg17Cv02"
      },
      "source": [
        "plt.boxplot(score['test_score'])"
      ],
      "execution_count": null,
      "outputs": []
    },
    {
      "cell_type": "code",
      "metadata": {
        "id": "Z-VH_GuwZLpx"
      },
      "source": [
        "from sklearn.metrics import accuracy_score\n",
        "accuracy=[]\n",
        "for train_index, val_index in kfold.split(X_pca, y):\n",
        "    xgb = XGBClassifier(objective='binary:logistic')\n",
        "    X_train = X_pca[train_index]\n",
        "    y_train = y[train_index]\n",
        "    X_val = X_pca[val_index]\n",
        "    y_val = y[val_index]\n",
        "    xgb.fit(X_train, y_train)\n",
        "    accuracy.append(accuracy_score(xgb.predict(X_val), y_val))"
      ],
      "execution_count": null,
      "outputs": []
    },
    {
      "cell_type": "code",
      "metadata": {
        "id": "FSgvKv1_08he"
      },
      "source": [
        "print(sum(accuracy)/len(accuracy))"
      ],
      "execution_count": null,
      "outputs": []
    },
    {
      "cell_type": "markdown",
      "metadata": {
        "id": "D5A2ikk31Haj"
      },
      "source": [
        "Logistic Regression"
      ]
    },
    {
      "cell_type": "code",
      "metadata": {
        "id": "CP9-VC-pdxF9"
      },
      "source": [
        "from sklearn.linear_model import LogisticRegression\n",
        "from sklearn.model_selection import GridSearchCV\n",
        "lr = LogisticRegression().fit(X_pca, y)\n",
        "params ={'max_iter':[10000],\n",
        "         'solver':['newton-cg','lbfgs', 'liblinear', 'sag', 'saga']}\n",
        "grid = GridSearchCV(lr, params, scoring='roc_auc', cv=kfold)\n",
        "grid.fit(X_pca, y)\n",
        "best_lr = grid.best_estimator_\n",
        "print(best_lr)\n",
        "for train_index, val_index in kfold.split(X_pca, y):\n",
        "    X_train = X_pca[train_index]\n",
        "    y_train = y[train_index]\n",
        "    X_val = X_pca[val_index]\n",
        "    y_val = y[val_index]\n",
        "    best_lr.fit(X_train, y_train)\n",
        "    accuracy.append(accuracy_score(best_lr.predict(X_val), y_val))"
      ],
      "execution_count": null,
      "outputs": []
    },
    {
      "cell_type": "code",
      "metadata": {
        "id": "72KRHhvC05_F"
      },
      "source": [
        "print(sum(accuracy)/len(accuracy))"
      ],
      "execution_count": null,
      "outputs": []
    }
  ]
}